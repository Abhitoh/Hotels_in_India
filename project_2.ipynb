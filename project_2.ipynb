{
 "cells": [
  {
   "cell_type": "markdown",
   "metadata": {},
   "source": [
    "Importing Libraries"
   ]
  },
  {
   "cell_type": "code",
   "execution_count": 1,
   "metadata": {},
   "outputs": [],
   "source": [
    "import numpy as np\n",
    "import pandas as pd\n",
    "import matplotlib\n",
    "import matplotlib.pyplot as plt\n",
    "import seaborn as sns"
   ]
  },
  {
   "cell_type": "markdown",
   "metadata": {},
   "source": [
    "Importing Dataset"
   ]
  },
  {
   "cell_type": "code",
   "execution_count": 2,
   "metadata": {},
   "outputs": [
    {
     "data": {
      "text/html": [
       "<div>\n",
       "<style scoped>\n",
       "    .dataframe tbody tr th:only-of-type {\n",
       "        vertical-align: middle;\n",
       "    }\n",
       "\n",
       "    .dataframe tbody tr th {\n",
       "        vertical-align: top;\n",
       "    }\n",
       "\n",
       "    .dataframe thead th {\n",
       "        text-align: right;\n",
       "    }\n",
       "</style>\n",
       "<table border=\"1\" class=\"dataframe\">\n",
       "  <thead>\n",
       "    <tr style=\"text-align: right;\">\n",
       "      <th></th>\n",
       "      <th>S.No.</th>\n",
       "      <th>State</th>\n",
       "      <th>City</th>\n",
       "      <th>Category</th>\n",
       "      <th>Alcohol</th>\n",
       "      <th>Hotel Name</th>\n",
       "      <th>Address</th>\n",
       "      <th>Start Date</th>\n",
       "      <th>Expiry Date</th>\n",
       "      <th>Total Rooms</th>\n",
       "    </tr>\n",
       "  </thead>\n",
       "  <tbody>\n",
       "    <tr>\n",
       "      <th>0</th>\n",
       "      <td>1</td>\n",
       "      <td>Delhi</td>\n",
       "      <td>New Delhi</td>\n",
       "      <td>1 Star</td>\n",
       "      <td>NaN</td>\n",
       "      <td>Hotel LA (A unit of L A Hotels And Retreats Pv...</td>\n",
       "      <td>plot no A-1, Community Centre, Road No 43, Man...</td>\n",
       "      <td>20/01/2020</td>\n",
       "      <td>19/01/2025</td>\n",
       "      <td>35</td>\n",
       "    </tr>\n",
       "    <tr>\n",
       "      <th>1</th>\n",
       "      <td>2</td>\n",
       "      <td>Gujarat</td>\n",
       "      <td>Adalaj</td>\n",
       "      <td>1 Star</td>\n",
       "      <td>NaN</td>\n",
       "      <td>Amba Suites, Unit of Amba Township Private Lim...</td>\n",
       "      <td>Amba Business Park, Shivam â€“ II, Sub-Plot No...</td>\n",
       "      <td>15/07/2022</td>\n",
       "      <td>14/07/2027</td>\n",
       "      <td>64</td>\n",
       "    </tr>\n",
       "    <tr>\n",
       "      <th>2</th>\n",
       "      <td>3</td>\n",
       "      <td>Gujarat</td>\n",
       "      <td>Ahmedabad</td>\n",
       "      <td>1 Star</td>\n",
       "      <td>NaN</td>\n",
       "      <td>Hotel Pragati The Grand (A Unit of Pragati The...</td>\n",
       "      <td>SP-2,FP 2342,PAIKI, NR ZYDUS CADILA HOSPITAL,H...</td>\n",
       "      <td>22/09/2021</td>\n",
       "      <td>21/09/2026</td>\n",
       "      <td>45</td>\n",
       "    </tr>\n",
       "    <tr>\n",
       "      <th>3</th>\n",
       "      <td>4</td>\n",
       "      <td>Gujarat</td>\n",
       "      <td>Ahmedabad</td>\n",
       "      <td>1 Star</td>\n",
       "      <td>NaN</td>\n",
       "      <td>Hotel Rezaas</td>\n",
       "      <td>375-1, Sheetal Baug, Nr. Girish Cold Drink, Of...</td>\n",
       "      <td>31/10/2018</td>\n",
       "      <td>30/10/2023</td>\n",
       "      <td>38</td>\n",
       "    </tr>\n",
       "    <tr>\n",
       "      <th>4</th>\n",
       "      <td>5</td>\n",
       "      <td>Gujarat</td>\n",
       "      <td>Anand</td>\n",
       "      <td>1 Star</td>\n",
       "      <td>NaN</td>\n",
       "      <td>HOTEL ARIZONA INN</td>\n",
       "      <td>OPP. S R PARK, ANAND- SOJITRA ROAD, ANAND- 388001</td>\n",
       "      <td>01/09/2020</td>\n",
       "      <td>31/08/2025</td>\n",
       "      <td>28</td>\n",
       "    </tr>\n",
       "    <tr>\n",
       "      <th>...</th>\n",
       "      <td>...</td>\n",
       "      <td>...</td>\n",
       "      <td>...</td>\n",
       "      <td>...</td>\n",
       "      <td>...</td>\n",
       "      <td>...</td>\n",
       "      <td>...</td>\n",
       "      <td>...</td>\n",
       "      <td>...</td>\n",
       "      <td>...</td>\n",
       "    </tr>\n",
       "    <tr>\n",
       "      <th>1207</th>\n",
       "      <td>1208</td>\n",
       "      <td>Maharashtra</td>\n",
       "      <td>MUMBAI</td>\n",
       "      <td>5 Star</td>\n",
       "      <td>Without Alcohol</td>\n",
       "      <td>RADISSON MUMBAI ANDHERI MIDC</td>\n",
       "      <td>X-22, MIDC CENTRAL ROAD, ANDHERI EAST, MUMBAI ...</td>\n",
       "      <td>18/10/2018</td>\n",
       "      <td>17/10/2023</td>\n",
       "      <td>111</td>\n",
       "    </tr>\n",
       "    <tr>\n",
       "      <th>1208</th>\n",
       "      <td>1209</td>\n",
       "      <td>Uttarakhand</td>\n",
       "      <td>Dehradun</td>\n",
       "      <td>5 Star</td>\n",
       "      <td>Without Alcohol</td>\n",
       "      <td>Seyfert Sarovar Premiere</td>\n",
       "      <td>Khasra No 270, Haridwar Bypass Road, Dehradun,...</td>\n",
       "      <td>25/02/2019</td>\n",
       "      <td>24/02/2024</td>\n",
       "      <td>68</td>\n",
       "    </tr>\n",
       "    <tr>\n",
       "      <th>1209</th>\n",
       "      <td>1210</td>\n",
       "      <td>West Bengal</td>\n",
       "      <td>Durgapur</td>\n",
       "      <td>5 Star</td>\n",
       "      <td>Without Alcohol</td>\n",
       "      <td>FORTUNE PARK PUSHPANJALI- MEMBER ITC'S HOTEL G...</td>\n",
       "      <td>C71 A SAHID KHUDIRAM SARANI CITY CENTRE Durgapur</td>\n",
       "      <td>12/01/2019</td>\n",
       "      <td>11/01/2024</td>\n",
       "      <td>89</td>\n",
       "    </tr>\n",
       "    <tr>\n",
       "      <th>1210</th>\n",
       "      <td>1211</td>\n",
       "      <td>West Bengal</td>\n",
       "      <td>Kolkata</td>\n",
       "      <td>5 Star</td>\n",
       "      <td>Without Alcohol</td>\n",
       "      <td>Raajkutir IHCL SeleQtions</td>\n",
       "      <td>89C MOULANA ABUL KALAM AZAD SARANI , BLOCK 1 ,...</td>\n",
       "      <td>17/11/2022</td>\n",
       "      <td>16/11/2027</td>\n",
       "      <td>33</td>\n",
       "    </tr>\n",
       "    <tr>\n",
       "      <th>1211</th>\n",
       "      <td>1212</td>\n",
       "      <td>West Bengal</td>\n",
       "      <td>Siliguri</td>\n",
       "      <td>5 Star</td>\n",
       "      <td>Without Alcohol</td>\n",
       "      <td>COURTYARD BY MARRIOTT SILIGURI</td>\n",
       "      <td>MALLAGURI HILL CART ROAD SILIGURI</td>\n",
       "      <td>31/12/2019</td>\n",
       "      <td>30/12/2024</td>\n",
       "      <td>130</td>\n",
       "    </tr>\n",
       "  </tbody>\n",
       "</table>\n",
       "<p>1212 rows × 10 columns</p>\n",
       "</div>"
      ],
      "text/plain": [
       "      S.No.        State       City Category          Alcohol  \\\n",
       "0         1        Delhi  New Delhi   1 Star              NaN   \n",
       "1         2      Gujarat     Adalaj   1 Star              NaN   \n",
       "2         3      Gujarat  Ahmedabad   1 Star              NaN   \n",
       "3         4      Gujarat  Ahmedabad   1 Star              NaN   \n",
       "4         5      Gujarat      Anand   1 Star              NaN   \n",
       "...     ...          ...        ...      ...              ...   \n",
       "1207   1208  Maharashtra     MUMBAI   5 Star  Without Alcohol   \n",
       "1208   1209  Uttarakhand   Dehradun   5 Star  Without Alcohol   \n",
       "1209   1210  West Bengal   Durgapur   5 Star  Without Alcohol   \n",
       "1210   1211  West Bengal    Kolkata   5 Star  Without Alcohol   \n",
       "1211   1212  West Bengal   Siliguri   5 Star  Without Alcohol   \n",
       "\n",
       "                                             Hotel Name  \\\n",
       "0     Hotel LA (A unit of L A Hotels And Retreats Pv...   \n",
       "1     Amba Suites, Unit of Amba Township Private Lim...   \n",
       "2     Hotel Pragati The Grand (A Unit of Pragati The...   \n",
       "3                                          Hotel Rezaas   \n",
       "4                                     HOTEL ARIZONA INN   \n",
       "...                                                 ...   \n",
       "1207                       RADISSON MUMBAI ANDHERI MIDC   \n",
       "1208                          Seyfert Sarovar Premiere    \n",
       "1209  FORTUNE PARK PUSHPANJALI- MEMBER ITC'S HOTEL G...   \n",
       "1210                          Raajkutir IHCL SeleQtions   \n",
       "1211                     COURTYARD BY MARRIOTT SILIGURI   \n",
       "\n",
       "                                                Address  Start Date  \\\n",
       "0     plot no A-1, Community Centre, Road No 43, Man...  20/01/2020   \n",
       "1     Amba Business Park, Shivam â€“ II, Sub-Plot No...  15/07/2022   \n",
       "2     SP-2,FP 2342,PAIKI, NR ZYDUS CADILA HOSPITAL,H...  22/09/2021   \n",
       "3     375-1, Sheetal Baug, Nr. Girish Cold Drink, Of...  31/10/2018   \n",
       "4     OPP. S R PARK, ANAND- SOJITRA ROAD, ANAND- 388001  01/09/2020   \n",
       "...                                                 ...         ...   \n",
       "1207  X-22, MIDC CENTRAL ROAD, ANDHERI EAST, MUMBAI ...  18/10/2018   \n",
       "1208  Khasra No 270, Haridwar Bypass Road, Dehradun,...  25/02/2019   \n",
       "1209   C71 A SAHID KHUDIRAM SARANI CITY CENTRE Durgapur  12/01/2019   \n",
       "1210  89C MOULANA ABUL KALAM AZAD SARANI , BLOCK 1 ,...  17/11/2022   \n",
       "1211                  MALLAGURI HILL CART ROAD SILIGURI  31/12/2019   \n",
       "\n",
       "     Expiry Date  Total Rooms  \n",
       "0     19/01/2025           35  \n",
       "1     14/07/2027           64  \n",
       "2     21/09/2026           45  \n",
       "3     30/10/2023           38  \n",
       "4     31/08/2025           28  \n",
       "...          ...          ...  \n",
       "1207  17/10/2023          111  \n",
       "1208  24/02/2024           68  \n",
       "1209  11/01/2024           89  \n",
       "1210  16/11/2027           33  \n",
       "1211  30/12/2024          130  \n",
       "\n",
       "[1212 rows x 10 columns]"
      ]
     },
     "execution_count": 2,
     "metadata": {},
     "output_type": "execute_result"
    }
   ],
   "source": [
    "df = pd.read_csv(r\"C:\\Users\\MYPC\\Desktop\\Hotels\\hotels_data.csv\")\n",
    "df"
   ]
  },
  {
   "cell_type": "code",
   "execution_count": 3,
   "metadata": {},
   "outputs": [
    {
     "data": {
      "text/html": [
       "<div>\n",
       "<style scoped>\n",
       "    .dataframe tbody tr th:only-of-type {\n",
       "        vertical-align: middle;\n",
       "    }\n",
       "\n",
       "    .dataframe tbody tr th {\n",
       "        vertical-align: top;\n",
       "    }\n",
       "\n",
       "    .dataframe thead th {\n",
       "        text-align: right;\n",
       "    }\n",
       "</style>\n",
       "<table border=\"1\" class=\"dataframe\">\n",
       "  <thead>\n",
       "    <tr style=\"text-align: right;\">\n",
       "      <th></th>\n",
       "      <th>S.No.</th>\n",
       "      <th>State</th>\n",
       "      <th>City</th>\n",
       "      <th>Category</th>\n",
       "      <th>Alcohol</th>\n",
       "      <th>Hotel Name</th>\n",
       "      <th>Address</th>\n",
       "      <th>Start Date</th>\n",
       "      <th>Expiry Date</th>\n",
       "      <th>Total Rooms</th>\n",
       "    </tr>\n",
       "  </thead>\n",
       "  <tbody>\n",
       "    <tr>\n",
       "      <th>0</th>\n",
       "      <td>1</td>\n",
       "      <td>Delhi</td>\n",
       "      <td>New Delhi</td>\n",
       "      <td>1 Star</td>\n",
       "      <td>NaN</td>\n",
       "      <td>Hotel LA (A unit of L A Hotels And Retreats Pv...</td>\n",
       "      <td>plot no A-1, Community Centre, Road No 43, Man...</td>\n",
       "      <td>20/01/2020</td>\n",
       "      <td>19/01/2025</td>\n",
       "      <td>35</td>\n",
       "    </tr>\n",
       "    <tr>\n",
       "      <th>1</th>\n",
       "      <td>2</td>\n",
       "      <td>Gujarat</td>\n",
       "      <td>Adalaj</td>\n",
       "      <td>1 Star</td>\n",
       "      <td>NaN</td>\n",
       "      <td>Amba Suites, Unit of Amba Township Private Lim...</td>\n",
       "      <td>Amba Business Park, Shivam â€“ II, Sub-Plot No...</td>\n",
       "      <td>15/07/2022</td>\n",
       "      <td>14/07/2027</td>\n",
       "      <td>64</td>\n",
       "    </tr>\n",
       "    <tr>\n",
       "      <th>2</th>\n",
       "      <td>3</td>\n",
       "      <td>Gujarat</td>\n",
       "      <td>Ahmedabad</td>\n",
       "      <td>1 Star</td>\n",
       "      <td>NaN</td>\n",
       "      <td>Hotel Pragati The Grand (A Unit of Pragati The...</td>\n",
       "      <td>SP-2,FP 2342,PAIKI, NR ZYDUS CADILA HOSPITAL,H...</td>\n",
       "      <td>22/09/2021</td>\n",
       "      <td>21/09/2026</td>\n",
       "      <td>45</td>\n",
       "    </tr>\n",
       "    <tr>\n",
       "      <th>3</th>\n",
       "      <td>4</td>\n",
       "      <td>Gujarat</td>\n",
       "      <td>Ahmedabad</td>\n",
       "      <td>1 Star</td>\n",
       "      <td>NaN</td>\n",
       "      <td>Hotel Rezaas</td>\n",
       "      <td>375-1, Sheetal Baug, Nr. Girish Cold Drink, Of...</td>\n",
       "      <td>31/10/2018</td>\n",
       "      <td>30/10/2023</td>\n",
       "      <td>38</td>\n",
       "    </tr>\n",
       "    <tr>\n",
       "      <th>4</th>\n",
       "      <td>5</td>\n",
       "      <td>Gujarat</td>\n",
       "      <td>Anand</td>\n",
       "      <td>1 Star</td>\n",
       "      <td>NaN</td>\n",
       "      <td>HOTEL ARIZONA INN</td>\n",
       "      <td>OPP. S R PARK, ANAND- SOJITRA ROAD, ANAND- 388001</td>\n",
       "      <td>01/09/2020</td>\n",
       "      <td>31/08/2025</td>\n",
       "      <td>28</td>\n",
       "    </tr>\n",
       "  </tbody>\n",
       "</table>\n",
       "</div>"
      ],
      "text/plain": [
       "   S.No.    State       City Category Alcohol  \\\n",
       "0      1    Delhi  New Delhi   1 Star     NaN   \n",
       "1      2  Gujarat     Adalaj   1 Star     NaN   \n",
       "2      3  Gujarat  Ahmedabad   1 Star     NaN   \n",
       "3      4  Gujarat  Ahmedabad   1 Star     NaN   \n",
       "4      5  Gujarat      Anand   1 Star     NaN   \n",
       "\n",
       "                                          Hotel Name  \\\n",
       "0  Hotel LA (A unit of L A Hotels And Retreats Pv...   \n",
       "1  Amba Suites, Unit of Amba Township Private Lim...   \n",
       "2  Hotel Pragati The Grand (A Unit of Pragati The...   \n",
       "3                                       Hotel Rezaas   \n",
       "4                                  HOTEL ARIZONA INN   \n",
       "\n",
       "                                             Address  Start Date Expiry Date  \\\n",
       "0  plot no A-1, Community Centre, Road No 43, Man...  20/01/2020  19/01/2025   \n",
       "1  Amba Business Park, Shivam â€“ II, Sub-Plot No...  15/07/2022  14/07/2027   \n",
       "2  SP-2,FP 2342,PAIKI, NR ZYDUS CADILA HOSPITAL,H...  22/09/2021  21/09/2026   \n",
       "3  375-1, Sheetal Baug, Nr. Girish Cold Drink, Of...  31/10/2018  30/10/2023   \n",
       "4  OPP. S R PARK, ANAND- SOJITRA ROAD, ANAND- 388001  01/09/2020  31/08/2025   \n",
       "\n",
       "   Total Rooms  \n",
       "0           35  \n",
       "1           64  \n",
       "2           45  \n",
       "3           38  \n",
       "4           28  "
      ]
     },
     "execution_count": 3,
     "metadata": {},
     "output_type": "execute_result"
    }
   ],
   "source": [
    "df.head()"
   ]
  },
  {
   "cell_type": "markdown",
   "metadata": {},
   "source": [
    "Data Preprocessing"
   ]
  },
  {
   "cell_type": "code",
   "execution_count": 4,
   "metadata": {},
   "outputs": [
    {
     "data": {
      "text/html": [
       "<div>\n",
       "<style scoped>\n",
       "    .dataframe tbody tr th:only-of-type {\n",
       "        vertical-align: middle;\n",
       "    }\n",
       "\n",
       "    .dataframe tbody tr th {\n",
       "        vertical-align: top;\n",
       "    }\n",
       "\n",
       "    .dataframe thead th {\n",
       "        text-align: right;\n",
       "    }\n",
       "</style>\n",
       "<table border=\"1\" class=\"dataframe\">\n",
       "  <thead>\n",
       "    <tr style=\"text-align: right;\">\n",
       "      <th></th>\n",
       "      <th>S.No.</th>\n",
       "      <th>Total Rooms</th>\n",
       "    </tr>\n",
       "  </thead>\n",
       "  <tbody>\n",
       "    <tr>\n",
       "      <th>count</th>\n",
       "      <td>1212.000000</td>\n",
       "      <td>1212.000000</td>\n",
       "    </tr>\n",
       "    <tr>\n",
       "      <th>mean</th>\n",
       "      <td>606.500000</td>\n",
       "      <td>75.646865</td>\n",
       "    </tr>\n",
       "    <tr>\n",
       "      <th>std</th>\n",
       "      <td>350.018571</td>\n",
       "      <td>93.098648</td>\n",
       "    </tr>\n",
       "    <tr>\n",
       "      <th>min</th>\n",
       "      <td>1.000000</td>\n",
       "      <td>10.000000</td>\n",
       "    </tr>\n",
       "    <tr>\n",
       "      <th>25%</th>\n",
       "      <td>303.750000</td>\n",
       "      <td>15.000000</td>\n",
       "    </tr>\n",
       "    <tr>\n",
       "      <th>50%</th>\n",
       "      <td>606.500000</td>\n",
       "      <td>41.000000</td>\n",
       "    </tr>\n",
       "    <tr>\n",
       "      <th>75%</th>\n",
       "      <td>909.250000</td>\n",
       "      <td>102.000000</td>\n",
       "    </tr>\n",
       "    <tr>\n",
       "      <th>max</th>\n",
       "      <td>1212.000000</td>\n",
       "      <td>1024.000000</td>\n",
       "    </tr>\n",
       "  </tbody>\n",
       "</table>\n",
       "</div>"
      ],
      "text/plain": [
       "             S.No.  Total Rooms\n",
       "count  1212.000000  1212.000000\n",
       "mean    606.500000    75.646865\n",
       "std     350.018571    93.098648\n",
       "min       1.000000    10.000000\n",
       "25%     303.750000    15.000000\n",
       "50%     606.500000    41.000000\n",
       "75%     909.250000   102.000000\n",
       "max    1212.000000  1024.000000"
      ]
     },
     "execution_count": 4,
     "metadata": {},
     "output_type": "execute_result"
    }
   ],
   "source": [
    "df.describe()"
   ]
  },
  {
   "cell_type": "code",
   "execution_count": 5,
   "metadata": {},
   "outputs": [
    {
     "data": {
      "text/plain": [
       "Index(['S.No.', 'State', 'City', 'Category', 'Alcohol', 'Hotel Name',\n",
       "       'Address', 'Start Date', 'Expiry Date', 'Total Rooms'],\n",
       "      dtype='object')"
      ]
     },
     "execution_count": 5,
     "metadata": {},
     "output_type": "execute_result"
    }
   ],
   "source": [
    "df.columns"
   ]
  },
  {
   "cell_type": "code",
   "execution_count": 6,
   "metadata": {},
   "outputs": [
    {
     "name": "stdout",
     "output_type": "stream",
     "text": [
      "<class 'pandas.core.frame.DataFrame'>\n",
      "RangeIndex: 1212 entries, 0 to 1211\n",
      "Data columns (total 10 columns):\n",
      " #   Column       Non-Null Count  Dtype \n",
      "---  ------       --------------  ----- \n",
      " 0   S.No.        1212 non-null   int64 \n",
      " 1   State        1212 non-null   object\n",
      " 2   City         1212 non-null   object\n",
      " 3   Category     1212 non-null   object\n",
      " 4   Alcohol      676 non-null    object\n",
      " 5   Hotel Name   1212 non-null   object\n",
      " 6   Address      1212 non-null   object\n",
      " 7   Start Date   1212 non-null   object\n",
      " 8   Expiry Date  1212 non-null   object\n",
      " 9   Total Rooms  1212 non-null   int64 \n",
      "dtypes: int64(2), object(8)\n",
      "memory usage: 94.8+ KB\n"
     ]
    }
   ],
   "source": [
    "df.info()"
   ]
  },
  {
   "cell_type": "markdown",
   "metadata": {},
   "source": [
    "Removing S.No. column"
   ]
  },
  {
   "cell_type": "code",
   "execution_count": 7,
   "metadata": {},
   "outputs": [],
   "source": [
    "df.drop('S.No.',inplace=True,axis=1)"
   ]
  },
  {
   "cell_type": "code",
   "execution_count": 8,
   "metadata": {},
   "outputs": [
    {
     "name": "stdout",
     "output_type": "stream",
     "text": [
      "<class 'pandas.core.frame.DataFrame'>\n",
      "RangeIndex: 1212 entries, 0 to 1211\n",
      "Data columns (total 9 columns):\n",
      " #   Column       Non-Null Count  Dtype \n",
      "---  ------       --------------  ----- \n",
      " 0   State        1212 non-null   object\n",
      " 1   City         1212 non-null   object\n",
      " 2   Category     1212 non-null   object\n",
      " 3   Alcohol      676 non-null    object\n",
      " 4   Hotel Name   1212 non-null   object\n",
      " 5   Address      1212 non-null   object\n",
      " 6   Start Date   1212 non-null   object\n",
      " 7   Expiry Date  1212 non-null   object\n",
      " 8   Total Rooms  1212 non-null   int64 \n",
      "dtypes: int64(1), object(8)\n",
      "memory usage: 85.3+ KB\n"
     ]
    }
   ],
   "source": [
    "df.info()"
   ]
  },
  {
   "cell_type": "markdown",
   "metadata": {},
   "source": [
    "Checking for Null values and treating them"
   ]
  },
  {
   "cell_type": "code",
   "execution_count": 9,
   "metadata": {},
   "outputs": [
    {
     "data": {
      "text/plain": [
       "State            0\n",
       "City             0\n",
       "Category         0\n",
       "Alcohol        536\n",
       "Hotel Name       0\n",
       "Address          0\n",
       "Start Date       0\n",
       "Expiry Date      0\n",
       "Total Rooms      0\n",
       "dtype: int64"
      ]
     },
     "execution_count": 9,
     "metadata": {},
     "output_type": "execute_result"
    }
   ],
   "source": [
    "df.isnull().sum()"
   ]
  },
  {
   "cell_type": "markdown",
   "metadata": {},
   "source": [
    "Above info shows that Alcohol column has 536 NaN values."
   ]
  },
  {
   "cell_type": "code",
   "execution_count": 10,
   "metadata": {},
   "outputs": [
    {
     "data": {
      "text/plain": [
       "array([nan, 'With Alcohol', 'Without Alcohol'], dtype=object)"
      ]
     },
     "execution_count": 10,
     "metadata": {},
     "output_type": "execute_result"
    }
   ],
   "source": [
    "df[\"Alcohol\"].unique()"
   ]
  },
  {
   "cell_type": "markdown",
   "metadata": {},
   "source": [
    "Filling NaN values with \"Not Mentioned\""
   ]
  },
  {
   "cell_type": "code",
   "execution_count": 11,
   "metadata": {},
   "outputs": [],
   "source": [
    "df[\"Alcohol\"].fillna(\"Not Mentioned\",inplace=True)"
   ]
  },
  {
   "cell_type": "code",
   "execution_count": 12,
   "metadata": {},
   "outputs": [
    {
     "data": {
      "text/plain": [
       "array(['Not Mentioned', 'With Alcohol', 'Without Alcohol'], dtype=object)"
      ]
     },
     "execution_count": 12,
     "metadata": {},
     "output_type": "execute_result"
    }
   ],
   "source": [
    "df[\"Alcohol\"].unique()"
   ]
  },
  {
   "cell_type": "markdown",
   "metadata": {},
   "source": [
    "Hence all null values have been treated"
   ]
  },
  {
   "cell_type": "code",
   "execution_count": 13,
   "metadata": {},
   "outputs": [
    {
     "data": {
      "text/plain": [
       "array(['Delhi', 'Gujarat', 'Madhya Pradesh', 'Maharashtra',\n",
       "       'Andaman And Nicobar', 'Assam', 'Himachal Pradesh', 'Kerala',\n",
       "       'Odisha', 'Rajasthan', 'Andhra Pradesh', 'Arunachal Pradesh',\n",
       "       'Bihar', 'Chhattisgarh', 'Goa', 'Haryana', 'Karnataka', 'Manipur',\n",
       "       'Meghalaya', 'Punjab', 'Tamil Nadu', 'Telangana', 'Uttar Pradesh',\n",
       "       'Uttarakhand', 'West Bengal', 'DNH & DD', 'Jharkhand', 'Tripura',\n",
       "       'Chandigarh', 'Ladakh'], dtype=object)"
      ]
     },
     "execution_count": 13,
     "metadata": {},
     "output_type": "execute_result"
    }
   ],
   "source": [
    "df[\"State\"].unique()"
   ]
  },
  {
   "cell_type": "markdown",
   "metadata": {},
   "source": [
    "Above column(State) contains both Indian States and its Union Territories"
   ]
  },
  {
   "cell_type": "code",
   "execution_count": 14,
   "metadata": {},
   "outputs": [
    {
     "data": {
      "text/plain": [
       "array(['1 Star', '2 Star', '3 Star', '4 Star', '5 Star'], dtype=object)"
      ]
     },
     "execution_count": 14,
     "metadata": {},
     "output_type": "execute_result"
    }
   ],
   "source": [
    "df[\"Category\"].unique()"
   ]
  },
  {
   "cell_type": "markdown",
   "metadata": {},
   "source": [
    "Checking Category column\n",
    "\n",
    "Category has to be changed from object to int. First 'star' has to be removed"
   ]
  },
  {
   "cell_type": "code",
   "execution_count": 15,
   "metadata": {},
   "outputs": [],
   "source": [
    "df[\"Category\"] = df[\"Category\"].str.split(\" \").str[0]"
   ]
  },
  {
   "cell_type": "code",
   "execution_count": 16,
   "metadata": {},
   "outputs": [
    {
     "data": {
      "text/plain": [
       "0    1\n",
       "1    1\n",
       "2    1\n",
       "3    1\n",
       "4    1\n",
       "Name: Category, dtype: object"
      ]
     },
     "execution_count": 16,
     "metadata": {},
     "output_type": "execute_result"
    }
   ],
   "source": [
    "df[\"Category\"].head()"
   ]
  },
  {
   "cell_type": "markdown",
   "metadata": {},
   "source": [
    "Converting data type: object to int"
   ]
  },
  {
   "cell_type": "code",
   "execution_count": 17,
   "metadata": {},
   "outputs": [],
   "source": [
    "df = df.astype({'Category':'int'})"
   ]
  },
  {
   "cell_type": "code",
   "execution_count": 18,
   "metadata": {},
   "outputs": [
    {
     "name": "stdout",
     "output_type": "stream",
     "text": [
      "<class 'pandas.core.frame.DataFrame'>\n",
      "RangeIndex: 1212 entries, 0 to 1211\n",
      "Data columns (total 9 columns):\n",
      " #   Column       Non-Null Count  Dtype \n",
      "---  ------       --------------  ----- \n",
      " 0   State        1212 non-null   object\n",
      " 1   City         1212 non-null   object\n",
      " 2   Category     1212 non-null   int32 \n",
      " 3   Alcohol      1212 non-null   object\n",
      " 4   Hotel Name   1212 non-null   object\n",
      " 5   Address      1212 non-null   object\n",
      " 6   Start Date   1212 non-null   object\n",
      " 7   Expiry Date  1212 non-null   object\n",
      " 8   Total Rooms  1212 non-null   int64 \n",
      "dtypes: int32(1), int64(1), object(7)\n",
      "memory usage: 80.6+ KB\n"
     ]
    }
   ],
   "source": [
    "df.info()"
   ]
  },
  {
   "cell_type": "markdown",
   "metadata": {},
   "source": [
    "Changing Column name: Category to StarRating"
   ]
  },
  {
   "cell_type": "code",
   "execution_count": 19,
   "metadata": {},
   "outputs": [],
   "source": [
    "df.rename(columns={'Category':'StarRating'},inplace=True)"
   ]
  },
  {
   "cell_type": "code",
   "execution_count": 20,
   "metadata": {},
   "outputs": [
    {
     "name": "stdout",
     "output_type": "stream",
     "text": [
      "<class 'pandas.core.frame.DataFrame'>\n",
      "RangeIndex: 1212 entries, 0 to 1211\n",
      "Data columns (total 9 columns):\n",
      " #   Column       Non-Null Count  Dtype \n",
      "---  ------       --------------  ----- \n",
      " 0   State        1212 non-null   object\n",
      " 1   City         1212 non-null   object\n",
      " 2   StarRating   1212 non-null   int32 \n",
      " 3   Alcohol      1212 non-null   object\n",
      " 4   Hotel Name   1212 non-null   object\n",
      " 5   Address      1212 non-null   object\n",
      " 6   Start Date   1212 non-null   object\n",
      " 7   Expiry Date  1212 non-null   object\n",
      " 8   Total Rooms  1212 non-null   int64 \n",
      "dtypes: int32(1), int64(1), object(7)\n",
      "memory usage: 80.6+ KB\n"
     ]
    }
   ],
   "source": [
    "df.info()"
   ]
  },
  {
   "cell_type": "markdown",
   "metadata": {},
   "source": [
    "Checking City column"
   ]
  },
  {
   "cell_type": "code",
   "execution_count": 21,
   "metadata": {},
   "outputs": [
    {
     "data": {
      "text/plain": [
       "0       New Delhi\n",
       "1          Adalaj\n",
       "2       Ahmedabad\n",
       "3       Ahmedabad\n",
       "4           Anand\n",
       "          ...    \n",
       "1207       MUMBAI\n",
       "1208     Dehradun\n",
       "1209     Durgapur\n",
       "1210      Kolkata\n",
       "1211     Siliguri\n",
       "Name: City, Length: 1212, dtype: object"
      ]
     },
     "execution_count": 21,
     "metadata": {},
     "output_type": "execute_result"
    }
   ],
   "source": [
    "df[\"City\"]"
   ]
  },
  {
   "cell_type": "markdown",
   "metadata": {},
   "source": [
    "Some cities have '*' at its end. We will remove them"
   ]
  },
  {
   "cell_type": "code",
   "execution_count": 22,
   "metadata": {},
   "outputs": [
    {
     "data": {
      "text/plain": [
       "array(['New Delhi', 'Adalaj', 'Ahmedabad', 'Anand', 'Bhavnagar',\n",
       "       'Gandhinagar', 'Morvi', 'Rajkot', 'Surat', 'Vadodara', 'Veraval',\n",
       "       'Dhar', 'Lonavala', 'Port Blair', 'Dibrugarh', 'Guwahati',\n",
       "       'Dwarka', 'Gandhidham', 'Jamnagar', 'Kevadiya', 'Morabi',\n",
       "       'Navsari', 'Porbandar', 'Saurashtra', 'Manali',\n",
       "       'Thiruvananthapuram', 'Kollhapur', 'SANTACURZ', 'Sambalpur',\n",
       "       'Alwar', 'East Godavari', 'Kakinada', 'Kurnool', 'Nellore',\n",
       "       'Rajahmundry', 'Rajam', 'Tirupati', 'Vijayawada', 'Visakhapatnam',\n",
       "       'Itanagar', 'West Kameng', 'Jorhat', 'Kokrajhar', 'Mangaldoi',\n",
       "       'Nagaon', 'Bodhgaya', 'Bilaspur', 'Durg-Bhilai Nagar', 'Korba',\n",
       "       'Raigarh', 'Raipur', 'Rajnandgaon', 'Margao', 'vasco da gama',\n",
       "       'Bharuch', 'Bhuj', 'Dang', 'Kutch', 'Mahesana', 'Morbi', 'Sanand',\n",
       "       'Talaja', 'Vapi', 'Viramgam', 'Ambala', 'Gurgaon', 'Rewari',\n",
       "       'Solan', 'Bangalore', 'Adoor', 'Alappuzha', 'Angamaly', 'Attingal',\n",
       "       'Calicut', 'Chalakudy', 'Changanassery', 'Chengannur', 'CHERAI',\n",
       "       'Cherthala', 'Ernakulam', 'Ettumanoor', 'Guruvayoor', 'Idukki',\n",
       "       'IRITTY', 'KALADY', 'Kalpetta', 'Kanhangad', 'Kannur',\n",
       "       'Karunagapally', 'Kasaragod', 'KASARGOD', 'Kayamkulam', 'Kochi',\n",
       "       'Kodungallur', 'Kollam', 'Kottayam', 'Kovalam', 'Koyilandy',\n",
       "       'Kozhikode', 'Kunnamkulam', 'Malappuram', 'Mavelikkara', 'Munnar',\n",
       "       'Muvattupuzha', 'Ottappalam', 'Palai', 'Palakkad', 'Paravoor',\n",
       "       'Pathanamthitta', 'Pattambi', 'Payyanur', 'Perumbavoor', 'Ponnani',\n",
       "       'Punalur', 'Quilandy', 'Shoranur', 'Sultan Bathery', 'Taliparamba',\n",
       "       'Thalikkulam', 'Thekkady', 'Thiruvalla', 'Thodupuzha',\n",
       "       'Thripunithura', 'Thrissur', 'Tirur', 'Valancherry', 'Varkala',\n",
       "       'Wayanad', 'Avarghani', 'Bhopal', 'Tikamgarh', 'Ahmednagar',\n",
       "       'Amravati', 'Andheri (East)', 'Aurangabad', 'Mulshi', 'Mumbai',\n",
       "       'MUMBAI', 'Nagpur', 'Nashik', 'Navi Mumbai', 'Palghar', 'Pune',\n",
       "       'Thane', 'Imphal', 'Shillong', 'Angul', 'Jajpur Road',\n",
       "       'Jharsuguda', 'Puri', 'Talcher', 'Jalandhar', 'Jaipur', 'Chennai',\n",
       "       'Thanjavur', 'Hyderabad', 'HYDERABAD', 'Ghaziabad', 'Ramnagar',\n",
       "       'Asansol', 'Bankura', 'Bishnupur', 'Durgapur', 'Kolkata', 'Delhi',\n",
       "       'Silvassa', 'Arpora', 'Mapusa', 'Faridabad', 'Dhanbad', 'Belgaum',\n",
       "       'Udupi', 'Idduki', 'Kumarakom', 'Bhubaneswar', 'Ludhiana',\n",
       "       'Sawai Madhopur', 'chennai', 'Kancheepuram', 'Madurai', 'Salem',\n",
       "       'Trichy', 'Gachibowli', 'Lucknow', 'Noida', 'Shahjahanpur',\n",
       "       'Baharampur', 'Purulia', 'Anjar', 'Junagadh', 'Pardi', 'alleppey',\n",
       "       'Nedumangad', 'NEDUMBASSERY', 'Neyyattinkara', 'Perinthalmanna',\n",
       "       'Shirdi', 'Amritsar', 'Darjiling', 'Murshidabad', 'Guntur',\n",
       "       'Daman', 'Bardez', 'Candolim', 'Cavelossim', 'Dona Paula',\n",
       "       'Old Goa', 'Panaji', 'Salcete', 'Salcette', 'Dharamshala',\n",
       "       'Shimla', 'Madikeri', 'Indore', 'Jabalpur', 'khajuraho', 'Solapur',\n",
       "       'Zirakpur', 'Jaisalmer', 'Udaipur', 'Coimbatore', 'Kodaikanal',\n",
       "       'MAHABALLIPURAM', 'Agartala', 'Agra', 'Kanpur', 'Varanasi',\n",
       "       'Dehradun', 'Kalimpong', 'Havelock Island', 'Patna', 'Chandigarh',\n",
       "       'Canacona', 'Cansaulim', 'Ranchi', 'Mysore', 'Mahabaleshwar',\n",
       "       'Raigad', 'Mohali', 'Mussoorie', 'Rishikesh', 'Dabhou', 'Nadiad',\n",
       "       'Vijaynagar', 'Leh', 'Siliguri'], dtype=object)"
      ]
     },
     "execution_count": 22,
     "metadata": {},
     "output_type": "execute_result"
    }
   ],
   "source": [
    "df['City'] = df['City'].str.split('*').str[0]\n",
    "df['City'].unique()"
   ]
  },
  {
   "cell_type": "markdown",
   "metadata": {},
   "source": [
    "Data Visualization"
   ]
  },
  {
   "cell_type": "markdown",
   "metadata": {},
   "source": [
    "Hotels in different States"
   ]
  },
  {
   "cell_type": "code",
   "execution_count": 23,
   "metadata": {},
   "outputs": [],
   "source": [
    "s_names = df.State.value_counts().index\n",
    "s_hotels = df.State.value_counts().values"
   ]
  },
  {
   "cell_type": "code",
   "execution_count": 24,
   "metadata": {},
   "outputs": [
    {
     "data": {
      "text/html": [
       "<div>\n",
       "<style scoped>\n",
       "    .dataframe tbody tr th:only-of-type {\n",
       "        vertical-align: middle;\n",
       "    }\n",
       "\n",
       "    .dataframe tbody tr th {\n",
       "        vertical-align: top;\n",
       "    }\n",
       "\n",
       "    .dataframe thead th {\n",
       "        text-align: right;\n",
       "    }\n",
       "</style>\n",
       "<table border=\"1\" class=\"dataframe\">\n",
       "  <thead>\n",
       "    <tr style=\"text-align: right;\">\n",
       "      <th></th>\n",
       "      <th>States</th>\n",
       "      <th>Hotels</th>\n",
       "    </tr>\n",
       "  </thead>\n",
       "  <tbody>\n",
       "    <tr>\n",
       "      <th>0</th>\n",
       "      <td>Andaman And Nicobar</td>\n",
       "      <td>4</td>\n",
       "    </tr>\n",
       "    <tr>\n",
       "      <th>1</th>\n",
       "      <td>Andhra Pradesh</td>\n",
       "      <td>32</td>\n",
       "    </tr>\n",
       "    <tr>\n",
       "      <th>2</th>\n",
       "      <td>Arunachal Pradesh</td>\n",
       "      <td>3</td>\n",
       "    </tr>\n",
       "    <tr>\n",
       "      <th>3</th>\n",
       "      <td>Assam</td>\n",
       "      <td>16</td>\n",
       "    </tr>\n",
       "    <tr>\n",
       "      <th>4</th>\n",
       "      <td>Bihar</td>\n",
       "      <td>3</td>\n",
       "    </tr>\n",
       "    <tr>\n",
       "      <th>5</th>\n",
       "      <td>Chandigarh</td>\n",
       "      <td>2</td>\n",
       "    </tr>\n",
       "    <tr>\n",
       "      <th>6</th>\n",
       "      <td>Chhattisgarh</td>\n",
       "      <td>27</td>\n",
       "    </tr>\n",
       "    <tr>\n",
       "      <th>7</th>\n",
       "      <td>DNH &amp; DD</td>\n",
       "      <td>2</td>\n",
       "    </tr>\n",
       "    <tr>\n",
       "      <th>8</th>\n",
       "      <td>Delhi</td>\n",
       "      <td>42</td>\n",
       "    </tr>\n",
       "    <tr>\n",
       "      <th>9</th>\n",
       "      <td>Goa</td>\n",
       "      <td>38</td>\n",
       "    </tr>\n",
       "    <tr>\n",
       "      <th>10</th>\n",
       "      <td>Gujarat</td>\n",
       "      <td>144</td>\n",
       "    </tr>\n",
       "    <tr>\n",
       "      <th>11</th>\n",
       "      <td>Haryana</td>\n",
       "      <td>28</td>\n",
       "    </tr>\n",
       "    <tr>\n",
       "      <th>12</th>\n",
       "      <td>Himachal Pradesh</td>\n",
       "      <td>5</td>\n",
       "    </tr>\n",
       "    <tr>\n",
       "      <th>13</th>\n",
       "      <td>Jharkhand</td>\n",
       "      <td>2</td>\n",
       "    </tr>\n",
       "    <tr>\n",
       "      <th>14</th>\n",
       "      <td>Karnataka</td>\n",
       "      <td>39</td>\n",
       "    </tr>\n",
       "    <tr>\n",
       "      <th>15</th>\n",
       "      <td>Kerala</td>\n",
       "      <td>557</td>\n",
       "    </tr>\n",
       "    <tr>\n",
       "      <th>16</th>\n",
       "      <td>Ladakh</td>\n",
       "      <td>1</td>\n",
       "    </tr>\n",
       "    <tr>\n",
       "      <th>17</th>\n",
       "      <td>Madhya Pradesh</td>\n",
       "      <td>16</td>\n",
       "    </tr>\n",
       "    <tr>\n",
       "      <th>18</th>\n",
       "      <td>Maharashtra</td>\n",
       "      <td>81</td>\n",
       "    </tr>\n",
       "    <tr>\n",
       "      <th>19</th>\n",
       "      <td>Manipur</td>\n",
       "      <td>1</td>\n",
       "    </tr>\n",
       "    <tr>\n",
       "      <th>20</th>\n",
       "      <td>Meghalaya</td>\n",
       "      <td>1</td>\n",
       "    </tr>\n",
       "    <tr>\n",
       "      <th>21</th>\n",
       "      <td>Odisha</td>\n",
       "      <td>15</td>\n",
       "    </tr>\n",
       "    <tr>\n",
       "      <th>22</th>\n",
       "      <td>Punjab</td>\n",
       "      <td>12</td>\n",
       "    </tr>\n",
       "    <tr>\n",
       "      <th>23</th>\n",
       "      <td>Rajasthan</td>\n",
       "      <td>20</td>\n",
       "    </tr>\n",
       "    <tr>\n",
       "      <th>24</th>\n",
       "      <td>Tamil Nadu</td>\n",
       "      <td>26</td>\n",
       "    </tr>\n",
       "    <tr>\n",
       "      <th>25</th>\n",
       "      <td>Telangana</td>\n",
       "      <td>21</td>\n",
       "    </tr>\n",
       "    <tr>\n",
       "      <th>26</th>\n",
       "      <td>Tripura</td>\n",
       "      <td>1</td>\n",
       "    </tr>\n",
       "    <tr>\n",
       "      <th>27</th>\n",
       "      <td>Uttar Pradesh</td>\n",
       "      <td>19</td>\n",
       "    </tr>\n",
       "    <tr>\n",
       "      <th>28</th>\n",
       "      <td>Uttarakhand</td>\n",
       "      <td>7</td>\n",
       "    </tr>\n",
       "    <tr>\n",
       "      <th>29</th>\n",
       "      <td>West Bengal</td>\n",
       "      <td>47</td>\n",
       "    </tr>\n",
       "  </tbody>\n",
       "</table>\n",
       "</div>"
      ],
      "text/plain": [
       "                 States  Hotels\n",
       "0   Andaman And Nicobar       4\n",
       "1        Andhra Pradesh      32\n",
       "2     Arunachal Pradesh       3\n",
       "3                 Assam      16\n",
       "4                 Bihar       3\n",
       "5            Chandigarh       2\n",
       "6          Chhattisgarh      27\n",
       "7              DNH & DD       2\n",
       "8                 Delhi      42\n",
       "9                   Goa      38\n",
       "10              Gujarat     144\n",
       "11              Haryana      28\n",
       "12     Himachal Pradesh       5\n",
       "13            Jharkhand       2\n",
       "14            Karnataka      39\n",
       "15               Kerala     557\n",
       "16               Ladakh       1\n",
       "17       Madhya Pradesh      16\n",
       "18          Maharashtra      81\n",
       "19              Manipur       1\n",
       "20            Meghalaya       1\n",
       "21               Odisha      15\n",
       "22               Punjab      12\n",
       "23            Rajasthan      20\n",
       "24           Tamil Nadu      26\n",
       "25            Telangana      21\n",
       "26              Tripura       1\n",
       "27        Uttar Pradesh      19\n",
       "28          Uttarakhand       7\n",
       "29          West Bengal      47"
      ]
     },
     "execution_count": 24,
     "metadata": {},
     "output_type": "execute_result"
    }
   ],
   "source": [
    "hotels = df.groupby('State').size().reset_index().rename(columns={0:'Hotels','State':'States'})\n",
    "hotels"
   ]
  },
  {
   "cell_type": "markdown",
   "metadata": {},
   "source": [
    "The above chart shows Kerala has the highest number of hotels(557) registered under the Ministry Of Tourism, India."
   ]
  },
  {
   "cell_type": "markdown",
   "metadata": {},
   "source": [
    "Hotels based on star rating"
   ]
  },
  {
   "cell_type": "code",
   "execution_count": 25,
   "metadata": {},
   "outputs": [],
   "source": [
    "ratings = df.StarRating.value_counts().index\n",
    "ratings_count = df.StarRating.value_counts().values"
   ]
  },
  {
   "cell_type": "code",
   "execution_count": 26,
   "metadata": {},
   "outputs": [
    {
     "data": {
      "text/plain": [
       "Index([3, 4, 5, 2, 1], dtype='int32', name='StarRating')"
      ]
     },
     "execution_count": 26,
     "metadata": {},
     "output_type": "execute_result"
    }
   ],
   "source": [
    "ratings"
   ]
  },
  {
   "cell_type": "code",
   "execution_count": 27,
   "metadata": {},
   "outputs": [
    {
     "data": {
      "text/html": [
       "<div>\n",
       "<style scoped>\n",
       "    .dataframe tbody tr th:only-of-type {\n",
       "        vertical-align: middle;\n",
       "    }\n",
       "\n",
       "    .dataframe tbody tr th {\n",
       "        vertical-align: top;\n",
       "    }\n",
       "\n",
       "    .dataframe thead th {\n",
       "        text-align: right;\n",
       "    }\n",
       "</style>\n",
       "<table border=\"1\" class=\"dataframe\">\n",
       "  <thead>\n",
       "    <tr style=\"text-align: right;\">\n",
       "      <th></th>\n",
       "      <th>StarRating</th>\n",
       "      <th>0</th>\n",
       "    </tr>\n",
       "  </thead>\n",
       "  <tbody>\n",
       "    <tr>\n",
       "      <th>0</th>\n",
       "      <td>1</td>\n",
       "      <td>16</td>\n",
       "    </tr>\n",
       "    <tr>\n",
       "      <th>1</th>\n",
       "      <td>2</td>\n",
       "      <td>23</td>\n",
       "    </tr>\n",
       "    <tr>\n",
       "      <th>2</th>\n",
       "      <td>3</td>\n",
       "      <td>497</td>\n",
       "    </tr>\n",
       "    <tr>\n",
       "      <th>3</th>\n",
       "      <td>4</td>\n",
       "      <td>338</td>\n",
       "    </tr>\n",
       "    <tr>\n",
       "      <th>4</th>\n",
       "      <td>5</td>\n",
       "      <td>338</td>\n",
       "    </tr>\n",
       "  </tbody>\n",
       "</table>\n",
       "</div>"
      ],
      "text/plain": [
       "   StarRating    0\n",
       "0           1   16\n",
       "1           2   23\n",
       "2           3  497\n",
       "3           4  338\n",
       "4           5  338"
      ]
     },
     "execution_count": 27,
     "metadata": {},
     "output_type": "execute_result"
    }
   ],
   "source": [
    "rating = df.groupby('StarRating').size().reset_index()\n",
    "rating"
   ]
  },
  {
   "cell_type": "markdown",
   "metadata": {},
   "source": [
    "Therefore 3 star hotels dominate the tourism industry!"
   ]
  },
  {
   "cell_type": "markdown",
   "metadata": {},
   "source": [
    "\n",
    "\n",
    "Hotels based on city\n"
   ]
  },
  {
   "cell_type": "code",
   "execution_count": 28,
   "metadata": {},
   "outputs": [],
   "source": [
    "h_in_city = df.groupby(\"City\").size().reset_index().rename(columns={0:'Hotels'})\n",
    "h_in_city = h_in_city.sort_values(by='Hotels',ascending=False) #sorting based on no. of hotels"
   ]
  },
  {
   "cell_type": "code",
   "execution_count": 29,
   "metadata": {},
   "outputs": [
    {
     "data": {
      "text/html": [
       "<div>\n",
       "<style scoped>\n",
       "    .dataframe tbody tr th:only-of-type {\n",
       "        vertical-align: middle;\n",
       "    }\n",
       "\n",
       "    .dataframe tbody tr th {\n",
       "        vertical-align: top;\n",
       "    }\n",
       "\n",
       "    .dataframe thead th {\n",
       "        text-align: right;\n",
       "    }\n",
       "</style>\n",
       "<table border=\"1\" class=\"dataframe\">\n",
       "  <thead>\n",
       "    <tr style=\"text-align: right;\">\n",
       "      <th></th>\n",
       "      <th>City</th>\n",
       "      <th>Hotels</th>\n",
       "    </tr>\n",
       "  </thead>\n",
       "  <tbody>\n",
       "    <tr>\n",
       "      <th>62</th>\n",
       "      <td>Ernakulam</td>\n",
       "      <td>100</td>\n",
       "    </tr>\n",
       "    <tr>\n",
       "      <th>219</th>\n",
       "      <td>Thiruvananthapuram</td>\n",
       "      <td>58</td>\n",
       "    </tr>\n",
       "    <tr>\n",
       "      <th>222</th>\n",
       "      <td>Thrissur</td>\n",
       "      <td>57</td>\n",
       "    </tr>\n",
       "    <tr>\n",
       "      <th>109</th>\n",
       "      <td>Kollam</td>\n",
       "      <td>43</td>\n",
       "    </tr>\n",
       "    <tr>\n",
       "      <th>141</th>\n",
       "      <td>Mumbai</td>\n",
       "      <td>39</td>\n",
       "    </tr>\n",
       "    <tr>\n",
       "      <th>4</th>\n",
       "      <td>Ahmedabad</td>\n",
       "      <td>36</td>\n",
       "    </tr>\n",
       "    <tr>\n",
       "      <th>22</th>\n",
       "      <td>Bangalore</td>\n",
       "      <td>34</td>\n",
       "    </tr>\n",
       "    <tr>\n",
       "      <th>108</th>\n",
       "      <td>Kolkata</td>\n",
       "      <td>33</td>\n",
       "    </tr>\n",
       "    <tr>\n",
       "      <th>112</th>\n",
       "      <td>Kottayam</td>\n",
       "      <td>30</td>\n",
       "    </tr>\n",
       "  </tbody>\n",
       "</table>\n",
       "</div>"
      ],
      "text/plain": [
       "                   City  Hotels\n",
       "62            Ernakulam     100\n",
       "219  Thiruvananthapuram      58\n",
       "222            Thrissur      57\n",
       "109              Kollam      43\n",
       "141              Mumbai      39\n",
       "4             Ahmedabad      36\n",
       "22            Bangalore      34\n",
       "108             Kolkata      33\n",
       "112            Kottayam      30"
      ]
     },
     "execution_count": 29,
     "metadata": {},
     "output_type": "execute_result"
    }
   ],
   "source": [
    "h_in_city[0:9]"
   ]
  },
  {
   "cell_type": "markdown",
   "metadata": {},
   "source": [
    "Ernakulam has the most no. of hotels"
   ]
  },
  {
   "cell_type": "code",
   "execution_count": 30,
   "metadata": {},
   "outputs": [
    {
     "name": "stdout",
     "output_type": "stream",
     "text": [
      "<class 'pandas.core.frame.DataFrame'>\n",
      "RangeIndex: 1212 entries, 0 to 1211\n",
      "Data columns (total 9 columns):\n",
      " #   Column       Non-Null Count  Dtype \n",
      "---  ------       --------------  ----- \n",
      " 0   State        1212 non-null   object\n",
      " 1   City         1212 non-null   object\n",
      " 2   StarRating   1212 non-null   int32 \n",
      " 3   Alcohol      1212 non-null   object\n",
      " 4   Hotel Name   1212 non-null   object\n",
      " 5   Address      1212 non-null   object\n",
      " 6   Start Date   1212 non-null   object\n",
      " 7   Expiry Date  1212 non-null   object\n",
      " 8   Total Rooms  1212 non-null   int64 \n",
      "dtypes: int32(1), int64(1), object(7)\n",
      "memory usage: 80.6+ KB\n"
     ]
    }
   ],
   "source": [
    "df.info()"
   ]
  },
  {
   "cell_type": "markdown",
   "metadata": {},
   "source": [
    "Total Rooms in each state"
   ]
  },
  {
   "cell_type": "code",
   "execution_count": 31,
   "metadata": {},
   "outputs": [
    {
     "data": {
      "text/html": [
       "<div>\n",
       "<style scoped>\n",
       "    .dataframe tbody tr th:only-of-type {\n",
       "        vertical-align: middle;\n",
       "    }\n",
       "\n",
       "    .dataframe tbody tr th {\n",
       "        vertical-align: top;\n",
       "    }\n",
       "\n",
       "    .dataframe thead th {\n",
       "        text-align: right;\n",
       "    }\n",
       "</style>\n",
       "<table border=\"1\" class=\"dataframe\">\n",
       "  <thead>\n",
       "    <tr style=\"text-align: right;\">\n",
       "      <th></th>\n",
       "      <th>State</th>\n",
       "      <th>Total Rooms</th>\n",
       "    </tr>\n",
       "  </thead>\n",
       "  <tbody>\n",
       "    <tr>\n",
       "      <th>0</th>\n",
       "      <td>Andaman And Nicobar</td>\n",
       "      <td>208</td>\n",
       "    </tr>\n",
       "    <tr>\n",
       "      <th>1</th>\n",
       "      <td>Andhra Pradesh</td>\n",
       "      <td>3079</td>\n",
       "    </tr>\n",
       "    <tr>\n",
       "      <th>2</th>\n",
       "      <td>Arunachal Pradesh</td>\n",
       "      <td>127</td>\n",
       "    </tr>\n",
       "    <tr>\n",
       "      <th>3</th>\n",
       "      <td>Assam</td>\n",
       "      <td>852</td>\n",
       "    </tr>\n",
       "    <tr>\n",
       "      <th>4</th>\n",
       "      <td>Bihar</td>\n",
       "      <td>264</td>\n",
       "    </tr>\n",
       "  </tbody>\n",
       "</table>\n",
       "</div>"
      ],
      "text/plain": [
       "                 State  Total Rooms\n",
       "0  Andaman And Nicobar          208\n",
       "1       Andhra Pradesh         3079\n",
       "2    Arunachal Pradesh          127\n",
       "3                Assam          852\n",
       "4                Bihar          264"
      ]
     },
     "execution_count": 31,
     "metadata": {},
     "output_type": "execute_result"
    }
   ],
   "source": [
    "s_rooms = df.groupby('State')['Total Rooms'].sum().reset_index()\n",
    "s_rooms.head()"
   ]
  },
  {
   "cell_type": "markdown",
   "metadata": {},
   "source": [
    "Kerala has 13554 rooms, which is the highest!."
   ]
  },
  {
   "cell_type": "markdown",
   "metadata": {},
   "source": [
    "\n",
    "\n",
    "Summary: This data and its visualization shows us that Kerala is dominant in the tourism and hospitality industry!\n"
   ]
  }
 ],
 "metadata": {
  "kernelspec": {
   "display_name": "Python 3",
   "language": "python",
   "name": "python3"
  },
  "language_info": {
   "codemirror_mode": {
    "name": "ipython",
    "version": 3
   },
   "file_extension": ".py",
   "mimetype": "text/x-python",
   "name": "python",
   "nbconvert_exporter": "python",
   "pygments_lexer": "ipython3",
   "version": "3.11.5"
  },
  "orig_nbformat": 4
 },
 "nbformat": 4,
 "nbformat_minor": 2
}
